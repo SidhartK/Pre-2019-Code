{
 "cells": [
  {
   "cell_type": "code",
   "execution_count": 1,
   "metadata": {},
   "outputs": [
    {
     "name": "stdout",
     "output_type": "stream",
     "text": [
      "Hello World!\n"
     ]
    }
   ],
   "source": [
    "print (\"Hello World!\")"
   ]
  },
  {
   "cell_type": "code",
   "execution_count": 49,
   "metadata": {},
   "outputs": [
    {
     "name": "stdout",
     "output_type": "stream",
     "text": [
      "2\n"
     ]
    },
    {
     "data": {
      "text/plain": [
       "4"
      ]
     },
     "execution_count": 49,
     "metadata": {},
     "output_type": "execute_result"
    }
   ],
   "source": [
    "print(1+1)\n",
    "1 + 3"
   ]
  },
  {
   "cell_type": "code",
   "execution_count": 271,
   "metadata": {},
   "outputs": [
    {
     "name": "stdout",
     "output_type": "stream",
     "text": [
      "8\n",
      "-2\n",
      "15\n",
      "0.6\n",
      "243\n",
      "6\n",
      "2\n",
      "0\n"
     ]
    }
   ],
   "source": [
    "#Basic Operations\n",
    "print (3 + 5)\n",
    "print (3 - 5) \n",
    "print (3 * 5)\n",
    "print (3 / 5)\n",
    "print (3 ** 5)\n",
    "print (3 ^ 5)\n",
    "print (5 % 3)\n",
    "print (3 // 5)"
   ]
  },
  {
   "cell_type": "code",
   "execution_count": 272,
   "metadata": {},
   "outputs": [
    {
     "name": "stdout",
     "output_type": "stream",
     "text": [
      "2\n"
     ]
    }
   ],
   "source": [
    "1 + 1\n",
    "print(1+1)"
   ]
  },
  {
   "cell_type": "code",
   "execution_count": 12,
   "metadata": {},
   "outputs": [
    {
     "name": "stdout",
     "output_type": "stream",
     "text": [
      "10\n"
     ]
    }
   ],
   "source": [
    "x = 5\n",
    "print (x"
   ]
  },
  {
   "cell_type": "code",
   "execution_count": 28,
   "metadata": {},
   "outputs": [
    {
     "name": "stdout",
     "output_type": "stream",
     "text": [
      "<class 'int'>\n",
      "<class 'float'>\n",
      "<class 'float'>\n",
      "<class 'float'>\n",
      "9.0\n",
      "2.5\n"
     ]
    }
   ],
   "source": [
    "#Types: Integers, Floats and how to convert between them\n",
    "print(type(4))\n",
    "print(type(4.3))\n",
    "print(type(4.))\n",
    "x = int(4.5)\n",
    "x = float(4)\n",
    "print(type(x))\n",
    "print(x + 5)\n",
    "print(5/2)"
   ]
  },
  {
   "cell_type": "code",
   "execution_count": 26,
   "metadata": {},
   "outputs": [
    {
     "name": "stdout",
     "output_type": "stream",
     "text": [
      "False True True False True False\n",
      "False\n",
      "False\n",
      "True\n",
      "False\n",
      "True False False\n",
      "<class 'bool'>\n"
     ]
    }
   ],
   "source": [
    "#Booleans and boolean operators\n",
    "x1 = 5 == 3\n",
    "x2 = 5 != 3\n",
    "x3 = 5 > 3\n",
    "x4 = 5 < 3\n",
    "x5 = 5 >= 3\n",
    "x6 = 5 <= 3\n",
    "print(x1, x2, x3, x4, x5, x6)\n",
    "print(x1 and x2)\n",
    "print(x1 and x4)\n",
    "print(x1 or x2)\n",
    "print(x1 or x4)\n",
    "print(not(x1), not(x2), not(x3))\n",
    "print(type(x1))"
   ]
  },
  {
   "cell_type": "code",
   "execution_count": 220,
   "metadata": {},
   "outputs": [
    {
     "name": "stdout",
     "output_type": "stream",
     "text": [
      "Hello my name is is \"Sidhart\"!\n",
      " Nice to met you. I'm John\n",
      "Hello my name is is \"Sidhart\"! Nice to met you. I'm John\n",
      "Hello my name is is \"Sidhart\"!Hello my name is is \"Sidhart\"!\n",
      "5\n",
      "<class 'str'>\n",
      "2\n",
      "This Will Capitalize\n",
      "this will make it all lower case\n",
      "This will replace things with other things\n",
      "True\n",
      "4\n",
      "['This', 'will', 'split', 'up', 'the', 'words']\n",
      "['We', 'can', 'also', 'define how to split it', ' And maximum number of arguments we want']\n",
      "['Or', 'we', 'can', 'divide', 'it', 'by words and only define the arguments']\n"
     ]
    },
    {
     "data": {
      "text/plain": [
       "('o', 'e')"
      ]
     },
     "execution_count": 220,
     "metadata": {},
     "output_type": "execute_result"
    }
   ],
   "source": [
    "#Strings and string methods \n",
    "str1 = 'Hello my name is is \"Sidhart\"!'\n",
    "str2 = \" Nice to met you. I\\'m John\"\n",
    "x = 52\n",
    "print(str1)\n",
    "print(str2)\n",
    "print(str1 + str2) \n",
    "print(str1 * 2)\n",
    "print(len(\"Hello\"))\n",
    "print(type(str1))\n",
    "print(len(str(x)))\n",
    "print(\"This will capitalize\".title())\n",
    "print(\"This will MAKE it all lower case\".lower())\n",
    "print(\"This will replace stuff\".replace(\"stuff\", \"things with other things\"))\n",
    "print(\"this tests if it is all lower case\".islower())\n",
    "print(\"This counts the number of occurences the the the\".count(\"the\"))\n",
    "print(\"This will split up the words\".split())\n",
    "print(\"We.can.also.define how to split it. And maximum number of arguments we want\".split(\".\", 4))\n",
    "print(\"Or we can divide it by words and only define the arguments\".split(None, 5))\n",
    "str1[4], str2[10]"
   ]
  },
  {
   "cell_type": "code",
   "execution_count": 58,
   "metadata": {},
   "outputs": [
    {
     "name": "stdout",
     "output_type": "stream",
     "text": [
      "2\n",
      "<class 'float'>\n",
      "6 4\n",
      "[1, '2'] [0, 1, '2'] ['4', 5, 6]\n",
      "1 7\n",
      "True True\n"
     ]
    },
    {
     "data": {
      "text/plain": [
       "[0, 1, 2.0, 3.0, '4', 5, 6]"
      ]
     },
     "execution_count": 58,
     "metadata": {},
     "output_type": "execute_result"
    }
   ],
   "source": [
    "#Lists (mutable) and how to index them\n",
    "practice_list = [0, 1, \"2\", 3.,\"4\", 5, 6]\n",
    "print(practice_list[2])\n",
    "print(type(practice_list[3]))\n",
    "print(practice_list[-1], practice_list[-3])\n",
    "print(practice_list[1:3], practice_list[:3], practice_list[4:])\n",
    "print(len(practice_list[2:3]), len(practice_list))\n",
    "print(\"2\" in practice_list[:4], \"3\" not in practice_list)\n",
    "practice_list[2] = 2.00\n",
    "practice_list"
   ]
  },
  {
   "cell_type": "code",
   "execution_count": 297,
   "metadata": {},
   "outputs": [
    {
     "name": "stdout",
     "output_type": "stream",
     "text": [
      "[0, 1, 'This will change both list2 and list2prime', 3, 4, 5]\n",
      "[0, 1, 'This will change both list2 and list2prime', 3, 4, 5]\n",
      "True\n",
      "3\n",
      "6 Gamma Alpha\n",
      "[0, 1, 2, 2.5, 3, 4, 5, 6]\n",
      "['Alpha', 'Beta!', 'Delta', 'Gamma'] \n",
      " ['Gamma', 'Delta', 'Beta!', 'Alpha']\n",
      "Alpha,    Beta!,    Gamma,    Delta\n",
      "This\n",
      "Will\n",
      "Do\n",
      "Newline\n",
      "[0, 1, 'This will change both list2 and list2prime', 3, 4, 5, 'I can append more stuff to the list'] \n",
      " [0, 1, 'This will change both list2 and list2prime', 3, 4, 5, 'I can append more stuff to the list']\n",
      "4 2.5\n",
      "[0, 1, 2, 3, 6, 5] 17\n"
     ]
    }
   ],
   "source": [
    "#Other list methods that I can call and introduction of new line \\n\n",
    "list2 = [0, 1, 2, 3, 4, 5]\n",
    "list2prime = list2\n",
    "list2[2] = \"This will change both list2 and list2prime\"\n",
    "print(list2)\n",
    "print(list2prime)\n",
    "x = \"Greater than or less than with strings\" > \"Are determined alphabetically the string that is later alphabetically is greater\"\n",
    "print(x)\n",
    "print(len(list2[:3]))\n",
    "list2renewed = [0, 1, 2, 3, 4, 6, 5, 2.5]\n",
    "list2renewedprime = [\"Alpha\", \"Beta!\", \"Gamma\", \"Delta\"]\n",
    "print(max(list2renewed), max(list2renewedprime), min(list2renewedprime))\n",
    "print(sorted(list2renewed))\n",
    "print(sorted(list2renewedprime), \"\\n\", sorted(list2renewedprime, reverse = True))\n",
    "print(\",    \".join(list2renewedprime))\n",
    "print(\"\\n\".join([\"This\", \"Will\", \"Do\", \"Newline\"]))\n",
    "list2.append(\"I can append more stuff to the list\")\n",
    "print(list2, \"\\n\", list2prime)\n",
    "print(list2renewed.pop(4), list2renewed.pop())\n",
    "print(list2renewed, sum(list2renewed))"
   ]
  },
  {
   "cell_type": "code",
   "execution_count": 298,
   "metadata": {},
   "outputs": [
    {
     "name": "stdout",
     "output_type": "stream",
     "text": [
      "(4, 5, 6) 15\n",
      "6\n",
      "(4, 5)\n",
      "4 5 6\n",
      "The three numbers that relate to x, y, and z respectively are 1, 2, and 3\n"
     ]
    },
    {
     "data": {
      "text/plain": [
       "True"
      ]
     },
     "execution_count": 298,
     "metadata": {},
     "output_type": "execute_result"
    }
   ],
   "source": [
    "#Tuples (not mutable i.e. cannot change them but they kinda act like lists)\n",
    "tuple = 4, 5, 6\n",
    "print(tuple, sum(tuple))\n",
    "print(tuple[2])\n",
    "print(tuple[:2])\n",
    "x, y, z = tuple \n",
    "print(x, y, z)\n",
    "x, y, z = 1, 2, 3\n",
    "print(\"The three numbers that relate to x, y, and z respectively are {}, {}, and {}\".format(x, y, z))\n",
    "4 in tuple"
   ]
  },
  {
   "cell_type": "code",
   "execution_count": 299,
   "metadata": {},
   "outputs": [
    {
     "name": "stdout",
     "output_type": "stream",
     "text": [
      "{0, 1, 2, 3, 4}\n",
      "10 5\n",
      "{0, 1, 2, 3, 4, 5} \n",
      " False\n",
      "0 {1, 2, 3, 4, 5}\n",
      "{1, 2, 3, 5, 10}\n",
      "{12, 5, 14}\n",
      "{1, 2, 3, 4, 5, 10, 12, 14} \n",
      " {1, 2, 3, 5} \n",
      " {5}\n"
     ]
    }
   ],
   "source": [
    "#Sets (not ordered with no repeats) and a few methods like Union and Intersection\n",
    "numbers = [0, 1, 2, 3, 3, 3, 4, 4]\n",
    "setofnumbers = set(numbers)\n",
    "print(setofnumbers)\n",
    "print(sum(setofnumbers),len(setofnumbers))\n",
    "setofnumbers.add(2)\n",
    "setofnumbers.add(5)\n",
    "print(setofnumbers, \"\\n\", 5 not in setofnumbers)\n",
    "print(setofnumbers.pop(), setofnumbers)\n",
    "setofnumbers2 = {1, 2, 3, 5, 10}\n",
    "print(setofnumbers2)\n",
    "setofnumbers3 = {12, 5, 12, 14}\n",
    "print(setofnumbers3)\n",
    "print(setofnumbers.union(setofnumbers2, setofnumbers3), \"\\n\", setofnumbers2.intersection(setofnumbers), \"\\n\", setofnumbers3.intersection(setofnumbers, setofnumbers2))"
   ]
  },
  {
   "cell_type": "code",
   "execution_count": 300,
   "metadata": {},
   "outputs": [
    {
     "name": "stdout",
     "output_type": "stream",
     "text": [
      "{'C': 'this is the output', 'B': [1, 2, 3], 'A': 2.34}\n",
      "dict_items([('C', 'this is the output'), ('B', [1, 2, 3]), ('A', 2.34)])\n",
      "[1, 2, 3] 3\n",
      "{'C': 'this is the output', 'B': [1, 2, 4], 'A': 2.34}\n",
      "False\n",
      "[1, 2, 4]\n",
      "None\n",
      "True\n",
      "2.34 False\n",
      "{'C': 'this is the output', 'B': [1, 2, 4], 'A': 2.34, 'G': 12}\n",
      "dict_keys(['C', 'B', 'A', 'G']) ['A', 'B', 'C', 'G']\n",
      "Integers can\n",
      "4\n",
      "{4: {'Prop1': 5, 'Prop2': 6, 'Prop3': 5}, 1: {'Prop1': 4, 'Prop2': 6}}\n",
      "5 2\n"
     ]
    }
   ],
   "source": [
    "#Dictionaries (immutable keys that link to any other objects) + lots of with a lot of methods \n",
    "dictionary = {\"C\": \"this is the output\", \"B\": [1, 2, 3], \"A\": 2.34}\n",
    "print(dictionary)\n",
    "print(dictionary.items())\n",
    "print(dictionary[\"B\"], dictionary[\"B\"][2])\n",
    "dictionary[\"B\"] = [1, 2, 4]\n",
    "print(dictionary)\n",
    "print(\"D\" in dictionary)\n",
    "print(dictionary.get(\"B\"))\n",
    "print(dictionary.get(\"D\"))\n",
    "x = dictionary.get(\"F\")\n",
    "print(x is None)\n",
    "x = dictionary.get(\"A\", 0), dictionary.get(\"X\")\n",
    "print(x[0], x[1] is not None)\n",
    "dictionary[\"G\"] = 12\n",
    "print(dictionary)\n",
    "print(dictionary.keys(), sorted(dictionary))\n",
    "dictionary2 = {4: \"Hello\", 5: \"Integers can also be keys\"}\n",
    "print(dictionary2[5][:12])\n",
    "dictionaryofdictionaries = {4: {\"Prop1\": 5,\n",
    "                                \"Prop2\" : 6},\n",
    "                            1: {\"Prop1\": 4,\n",
    "                                \"Prop2\": 6}\n",
    "                           }\n",
    "print(dictionaryofdictionaries[1][\"Prop1\"])\n",
    "dictionaryofdictionaries[4][\"Prop3\"] = 5\n",
    "print(dictionaryofdictionaries)\n",
    "print(sum(dictionaryofdictionaries), len(dictionaryofdictionaries))"
   ]
  },
  {
   "cell_type": "code",
   "execution_count": 208,
   "metadata": {},
   "outputs": [
    {
     "name": "stdout",
     "output_type": "stream",
     "text": [
      "60\n",
      "61\n",
      "y is False\n",
      "5\n"
     ]
    }
   ],
   "source": [
    "#If, else and else if (elif)\n",
    "x = 55\n",
    "if not(x == 45):\n",
    "    x += 5\n",
    "    print(x)\n",
    "if (not(x >= 0)):\n",
    "    print (-15)\n",
    "elif (x == 3):\n",
    "    print(x)\n",
    "elif x > 0 and x <= 51: \n",
    "    print(x + 50)\n",
    "else:\n",
    "    x -= 2\n",
    "    print(x + 3)\n",
    "y = 5\n",
    "y1 = 0\n",
    "y2 = 0.0\n",
    "test_dictionary = {1: 2, 4: 5, 3: 3}\n",
    "y3 = test_dictionary.get(2)\n",
    "y4 = \"\"\n",
    "y5 = ()\n",
    "y6 = []\n",
    "y7 = {}\n",
    "if (y3):\n",
    "    print(y)\n",
    "else:\n",
    "    print(\"y is False\")\n",
    "if (y):\n",
    "    print(y)\n",
    "else:\n",
    "    print(\"y is False\")\n",
    "    "
   ]
  },
  {
   "cell_type": "code",
   "execution_count": 247,
   "metadata": {},
   "outputs": [
    {
     "name": "stdout",
     "output_type": "stream",
     "text": [
      "range(0, 4)\n",
      "0\n",
      "1\n",
      "2\n",
      "3\n",
      "4\n",
      "\n",
      "\n",
      "1 : this is a number\n",
      "2 : this is a number\n",
      "3 : this is a number\n",
      "4 : this is a number\n",
      "5 : this is a number\n",
      "right is a string\n",
      "\n",
      "\n",
      "1\n",
      "2\n",
      "3\n",
      "4\n",
      "5\n",
      "right\n",
      "\n",
      "\n",
      "{'A': 0, 'B': 1, 'C': 2, '45': ['A', 'B', 'C']}\n",
      "The value of A is 0\n",
      "The value of B is 1\n",
      "The value of C is 2\n",
      "The value of 45 is ['A', 'B', 'C']\n"
     ]
    }
   ],
   "source": [
    "#For loops \n",
    "for i in range(5):\n",
    "    print(i)\n",
    "list = [1, 2, 3, 4, 5, \"right\"]\n",
    "print(\"\\n\")\n",
    "for i in list: \n",
    "    if (type(i) is str):\n",
    "        print(i + \" is a string\")\n",
    "    else:\n",
    "        print(i, \": this is a number\")\n",
    "print(\"\\n\")\n",
    "for i in range(len(list)):\n",
    "    print(list[i])\n",
    "print(\"\\n\")\n",
    "list_keys = [\"A\", \"B\", \"C\"]\n",
    "diction = {}\n",
    "for i in range(len(list_keys)):\n",
    "    diction[list_keys[i]] = i\n",
    "diction[\"45\"] = list_keys\n",
    "print(diction)\n",
    "for key, value in diction.items():\n",
    "    print(\"The value of {} is {}\".format(key, value))\n"
   ]
  },
  {
   "cell_type": "code",
   "execution_count": 235,
   "metadata": {},
   "outputs": [
    {
     "name": "stdout",
     "output_type": "stream",
     "text": [
      "List 1 is [1, 2, 3, 4, 5, 5] and List 2 is [0]\n",
      "List 1 is [2, 3, 4, 5, 5] and List 2 is [0, 1]\n",
      "List 1 is [3, 4, 5, 5] and List 2 is [0, 1, 2]\n",
      "List 1 is [4, 5, 5] and List 2 is [0, 1, 2, 3]\n",
      "List 1 is [5, 5] and List 2 is [0, 1, 2, 3, 4]\n"
     ]
    }
   ],
   "source": [
    "#While loops \n",
    "list1 = [0, 1, 2, 3, 4, 5, 5]\n",
    "list2 = []\n",
    "while sum(list2) <= 6:\n",
    "    list2.append(list1.pop(0))\n",
    "    print(\"List 1 is {} and List 2 is {}\".format(list1, list2))"
   ]
  },
  {
   "cell_type": "code",
   "execution_count": 245,
   "metadata": {},
   "outputs": [
    {
     "name": "stdout",
     "output_type": "stream",
     "text": [
      "I am skipping the value of 2 in this loop but am still continuing\n",
      "I am breaking the loop now while i is 3\n",
      "The value of the sum is 1\n"
     ]
    }
   ],
   "source": [
    "#Continue (which means to skip) and Break (which means to stop)\n",
    "x = 0\n",
    "for i in range(5):\n",
    "    if i == 2:\n",
    "        print(\"I am skipping the value of {} in this loop but am still continuing\".format(i))\n",
    "        continue\n",
    "    if i == 3:\n",
    "        print(\"I am breaking the loop now while i is {}\".format(i))\n",
    "        break\n",
    "    else:\n",
    "        x += i\n",
    "print(\"The value of the sum is {}\".format(x))"
   ]
  },
  {
   "cell_type": "code",
   "execution_count": 269,
   "metadata": {},
   "outputs": [
    {
     "name": "stdout",
     "output_type": "stream",
     "text": [
      "[(0, 0, 12), (1, 5, 3), (4, 12, 5), (5, 140, 16), (120, 11, 2020)]\n",
      "The 0th element of list3 is 12\n",
      "The 1st element of list3 is 3\n",
      "The 2nd element of list3 is 5\n",
      "The 3rd element of list3 is 16\n",
      "The 4th element of list3 is 2020\n",
      "{0: 0, 1: 5, 4: 12, 5: 140, 120: 11}\n",
      "(0, 1, 4, 5, 120)\n",
      "(0, 5, 12, 140, 11)\n",
      "(12, 3, 5, 16, 2020)\n"
     ]
    }
   ],
   "source": [
    "#Zip which combines two lists into a list of tuples, Enumerate indexes the elements in a list\n",
    "list1 = [0, 1, 4, 5, 120]\n",
    "list2 = [0, 5, 12, 140, 11]\n",
    "list3 = [12, 3, 5, 16, 2020]\n",
    "list_combined = [(1,2), (15, 20), (14, 12)]\n",
    "list0 = []\n",
    "for i1, i2, i3 in zip(list1, list2, list3):\n",
    "    list0.append((i1, i2, i3))\n",
    "print(list0)\n",
    "for index, number in enumerate(list3):\n",
    "    if(index == 0 or index == 4):\n",
    "        print(\"The {}th element of list3 is {}\".format(index, number))\n",
    "    if(index == 1):\n",
    "        print(\"The 1st element of list3 is {}\".format(number))\n",
    "    if(index == 2):\n",
    "        print(\"The {}nd element of list3 is {}\".format(index,number))\n",
    "    elif(index == 3):\n",
    "        print(\"The {}rd element of list3 is {}\".format(index,number))\n",
    "adictionary = dict(zip(list1, list2))\n",
    "print(adictionary)\n",
    "L1, L2, L3 = zip(*list0)\n",
    "print(L1)\n",
    "print(L2)\n",
    "print(L3)"
   ]
  },
  {
   "cell_type": "code",
   "execution_count": 294,
   "metadata": {},
   "outputs": [
    {
     "name": "stdout",
     "output_type": "stream",
     "text": [
      "20\n",
      "4\n",
      "124\n"
     ]
    },
    {
     "data": {
      "text/plain": [
       "136"
      ]
     },
     "execution_count": 294,
     "metadata": {},
     "output_type": "execute_result"
    }
   ],
   "source": [
    "#How to define functions in Python\n",
    "def inc_by_10 (x):\n",
    "    return (x + 10)\n",
    "print (inc_by_10(10))\n",
    "def multiplyby12andmodit (x, z, y = 12):\n",
    "    return ((x * y) % z)\n",
    "print(multiplyby12andmodit(12, 5))\n",
    "\n",
    "variab= 112\n",
    "def printvariableplus12(variable):\n",
    "    \"\"\"This function will add 12 and then print (this comment could be just this line)\n",
    "    INPUT: \n",
    "    variable: int or float. the variable that will be added to 12\n",
    "    OUTPUT: \n",
    "    printvariableplus12: variable + 12. the variable plus 12 \n",
    "    \"\"\"\n",
    "    return (variable + 12)\n",
    "print(printvariableplus12(variab))\n",
    "printvariableplus12(variab) + 12"
   ]
  },
  {
   "cell_type": "code",
   "execution_count": 311,
   "metadata": {},
   "outputs": [
    {
     "name": "stdout",
     "output_type": "stream",
     "text": [
      "363 363\n",
      "[120, 156, 12, 492]\n",
      "The element from maplist is 13 and the element from maplist2 is 12\n",
      "The element from maplist is 0 and the element from maplist2 is 3\n",
      "The element from maplist is 41 and the element from maplist2 is 40\n"
     ]
    }
   ],
   "source": [
    "#How we can use lambda functions to shorten functions (both of the following are the same), also defines map function\n",
    "#Also we will introduce the map function which uses a function and an iterable object (i.e. list, tuple, dictionary)\n",
    "#then the map function returns an iterable mapping an element to f(element) and in the example we have a one line for function\n",
    "#Also we have filter which takes a boolean function and an iterable and then finds all values which return true \n",
    "def multiply1 (x, y):\n",
    "    return (x * y)\n",
    "multiply2 = lambda x, y: x * y\n",
    "print(multiply1(3, 121), multiply2(121, 3))\n",
    "multiply3 = lambda x, y = 12: x * 12\n",
    "maplist = [10, 13, 1, 0, 41]\n",
    "newlist = [x for x in map(multiply3, maplist) if x > 0]\n",
    "print(newlist)\n",
    "def booleanop (x):\n",
    "    return (x[0] != x[1])\n",
    "maplist2 = [10, 12, 1, 3, 40]\n",
    "newlist2 = [\"The element from maplist is {} and the element from maplist2 is {}\".format(x[0], x[1]) for x in filter(booleanop, zip(maplist, maplist2))]\n",
    "for element in newlist2:\n",
    "    print(element)"
   ]
  },
  {
   "cell_type": "code",
   "execution_count": 312,
   "metadata": {},
   "outputs": [
    {
     "name": "stdout",
     "output_type": "stream",
     "text": [
      "\n",
      "Welcome to Python3!\n",
      "\n",
      "             ____\n",
      "            / . .\\\n",
      "            \\  ---<\n",
      "             \\  /\n",
      "   __________/ /\n",
      "-=:___________/\n",
      "\n",
      "<3, Juno\n",
      "\n"
     ]
    }
   ],
   "source": [
    "#Example of copying a program in python and running it \n",
    "how_many_snakes = 1\n",
    "snake_string = \"\"\"\n",
    "Welcome to Python3!\n",
    "\n",
    "             ____\n",
    "            / . .\\\\\n",
    "            \\  ---<\n",
    "             \\  /\n",
    "   __________/ /\n",
    "-=:___________/\n",
    "\n",
    "<3, Juno\n",
    "\"\"\"\n",
    "\n",
    "\n",
    "print(snake_string * how_many_snakes)"
   ]
  },
  {
   "cell_type": "code",
   "execution_count": 316,
   "metadata": {},
   "outputs": [
    {
     "name": "stdout",
     "output_type": "stream",
     "text": [
      "Enter a name: Sidhart\n",
      "Hello Sidhart Your name is 7 letters long\n",
      "Enter a name: 45\n",
      "Hello 45 Your name is 2 letters long\n",
      "Enter an expression: print(\"Hello world!! I am now sentient\")\n",
      "Hello world!! I am now sentient\n"
     ]
    }
   ],
   "source": [
    "#This allow for user input and even allows them to input their own code  \n",
    "name = input(\"Enter a name: \")\n",
    "print(\"Hello\", name.title(), \"Your name is {} letters long\".format(len(name)))\n",
    "name = str(input(\"Enter a name: \"))\n",
    "print(\"Hello\", name.title(), \"Your name is {} letters long\".format(len(name)))\n",
    "function = eval(input(\"Enter an expression: \"))"
   ]
  },
  {
   "cell_type": "code",
   "execution_count": null,
   "metadata": {},
   "outputs": [],
   "source": [
    "print(1)"
   ]
  },
  {
   "cell_type": "code",
   "execution_count": null,
   "metadata": {},
   "outputs": [],
   "source": []
  },
  {
   "cell_type": "code",
   "execution_count": null,
   "metadata": {},
   "outputs": [],
   "source": [
    "print (1 + 1)"
   ]
  },
  {
   "cell_type": "code",
   "execution_count": null,
   "metadata": {},
   "outputs": [],
   "source": []
  }
 ],
 "metadata": {
  "kernelspec": {
   "display_name": "Python 3",
   "language": "python",
   "name": "python3"
  },
  "language_info": {
   "codemirror_mode": {
    "name": "ipython",
    "version": 3
   },
   "file_extension": ".py",
   "mimetype": "text/x-python",
   "name": "python",
   "nbconvert_exporter": "python",
   "pygments_lexer": "ipython3",
   "version": "3.7.6"
  }
 },
 "nbformat": 4,
 "nbformat_minor": 4
}
